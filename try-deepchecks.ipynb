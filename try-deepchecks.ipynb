{
 "cells": [
  {
   "cell_type": "code",
   "execution_count": 3,
   "metadata": {
    "pycharm": {
     "name": "#%%\n"
    }
   },
   "outputs": [
    {
     "name": "stderr",
     "output_type": "stream",
     "text": [
      "deepchecks - INFO - Load data\n",
      "2022-12-19 15:13:30,583 - deepchecks - INFO - Load data\n",
      "deepchecks - INFO - load model\n",
      "2022-12-19 15:13:31,712 - deepchecks - INFO - load model\n",
      "deepchecks - INFO - run deepchecks suite\n",
      "2022-12-19 15:13:39,550 - deepchecks - INFO - run deepchecks suite\n"
     ]
    },
    {
     "data": {
      "text/html": [
       "\n",
       "    <style>\n",
       "        progress {\n",
       "            -webkit-appearance: none;\n",
       "            border: none;\n",
       "            border-radius: 3px;\n",
       "            width: 300px;\n",
       "            height: 20px;\n",
       "            vertical-align: middle;\n",
       "            margin-right: 10px;\n",
       "            background-color: aliceblue;\n",
       "        }\n",
       "        progress::-webkit-progress-bar {\n",
       "            border-radius: 3px;\n",
       "            background-color: aliceblue;\n",
       "        }\n",
       "        progress::-webkit-progress-value {\n",
       "            background-color: #9d60fb;\n",
       "        }\n",
       "        progress::-moz-progress-bar {\n",
       "            background-color: #9d60fb;\n",
       "        }\n",
       "    </style>\n",
       "    "
      ]
     },
     "metadata": {},
     "output_type": "display_data"
    },
    {
     "data": {
      "text/html": []
     },
     "metadata": {},
     "output_type": "display_data"
    },
    {
     "data": {
      "application/vnd.jupyter.widget-view+json": {
       "model_id": "422b8030b7af4a90bffdb553d5b48aa8",
       "version_major": 2,
       "version_minor": 0
      },
      "text/plain": [
       "Accordion(children=(VBox(children=(HTML(value='\\n            <h1 id=\"summary_J1JQM5E412HX0S0OTN6IY2F86\">Full S…"
      ]
     },
     "metadata": {},
     "output_type": "display_data"
    }
   ],
   "source": [
    "import json\n",
    "import numpy as np\n",
    "import pandas as pd\n",
    "import logging\n",
    "from sklearn.metrics import roc_auc_score\n",
    "from sklearn.model_selection import StratifiedKFold, cross_validate\n",
    "from xgboost import XGBClassifier\n",
    "import deepchecks\n",
    "\n",
    "from sklearn.ensemble import RandomForestClassifier\n",
    "from sklearn.model_selection import train_test_split\n",
    "from deepchecks.tabular import Dataset\n",
    "\n",
    "from deepchecks.tabular.suites import full_suite\n",
    "\n",
    "import config\n",
    "from etl import load_train_test_data\n",
    "\n",
    "\n",
    "logger = logging.getLogger('deepchecks')\n",
    "\n",
    "logger.info('Load data')\n",
    "X_train, X_test, y_train, y_test = load_train_test_data(selected_feats_only=True)\n",
    "label_col = 'target'\n",
    "\n",
    "df_train = X_train.copy()\n",
    "df_train['target'] = y_train\n",
    "\n",
    "df_test = X_test.copy()\n",
    "df_test['target'] = y_test\n",
    "\n",
    "assert list(df_train.columns) == list(df_test.columns)\n",
    "\n",
    "ds_train = Dataset(df_train, label=label_col, cat_features=[])\n",
    "ds_test = Dataset(df_test, label=label_col, cat_features=[])\n",
    "\n",
    "# train model on train data and evaluate on test data (the portion not involved in CV)\n",
    "logger.info('load model')\n",
    "params_model = config.get_params_model()\n",
    "model = XGBClassifier(**params_model)\n",
    "model.fit(X_train, y_train)\n",
    "y_pred_prob_test = model.predict_proba(X_test)[:, 1]\n",
    "score_test = roc_auc_score(y_test, y_pred_prob_test)\n",
    "\n",
    "\n",
    "logger.info('run deepchecks suite')\n",
    "suite = full_suite()\n",
    "suite.run(train_dataset=ds_train, test_dataset=ds_test, model=model)"
   ]
  }
 ],
 "metadata": {
  "hide_input": false,
  "kernelspec": {
   "display_name": "Python 3 (ipykernel)",
   "language": "python",
   "name": "python3"
  },
  "language_info": {
   "codemirror_mode": {
    "name": "ipython",
    "version": 3
   },
   "file_extension": ".py",
   "mimetype": "text/x-python",
   "name": "python",
   "nbconvert_exporter": "python",
   "pygments_lexer": "ipython3",
   "version": "3.8.13"
  },
  "toc": {
   "base_numbering": 1,
   "nav_menu": {},
   "number_sections": true,
   "sideBar": true,
   "skip_h1_title": false,
   "title_cell": "Table of Contents",
   "title_sidebar": "Contents",
   "toc_cell": false,
   "toc_position": {},
   "toc_section_display": true,
   "toc_window_display": false
  }
 },
 "nbformat": 4,
 "nbformat_minor": 1
}